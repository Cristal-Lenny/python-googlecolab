{
  "nbformat": 4,
  "nbformat_minor": 0,
  "metadata": {
    "colab": {
      "name": "prueba01.ipynb",
      "provenance": [],
      "collapsed_sections": [],
      "authorship_tag": "ABX9TyN3PteOoZCPDRhoR0j5Yta0",
      "include_colab_link": true
    },
    "kernelspec": {
      "name": "python3",
      "display_name": "Python 3"
    },
    "language_info": {
      "name": "python"
    }
  },
  "cells": [
    {
      "cell_type": "markdown",
      "metadata": {
        "id": "view-in-github",
        "colab_type": "text"
      },
      "source": [
        "<a href=\"https://colab.research.google.com/github/Cristal-Lenny/python-googlecolab/blob/main/prueba01.ipynb\" target=\"_parent\"><img src=\"https://colab.research.google.com/assets/colab-badge.svg\" alt=\"Open In Colab\"/></a>"
      ]
    },
    {
      "cell_type": "code",
      "execution_count": 1,
      "metadata": {
        "colab": {
          "base_uri": "https://localhost:8080/"
        },
        "id": "GJV7vkaUi6dM",
        "outputId": "e920f8f3-3eff-444b-fc65-5c8ffcc1f1da"
      },
      "outputs": [
        {
          "output_type": "stream",
          "name": "stdout",
          "text": [
            "Hola\n"
          ]
        }
      ],
      "source": [
        "print(\"Hola\")"
      ]
    },
    {
      "cell_type": "code",
      "source": [
        "numero1 = int(input(\"ingrese el primer número: \"))\n"
      ],
      "metadata": {
        "colab": {
          "base_uri": "https://localhost:8080/"
        },
        "id": "YtZl1_jmlYGv",
        "outputId": "1cd99566-c673-42dc-d55d-f6cbbefb8fe3"
      },
      "execution_count": 7,
      "outputs": [
        {
          "name": "stdout",
          "output_type": "stream",
          "text": [
            "ingrese el primer número: 5\n"
          ]
        }
      ]
    },
    {
      "cell_type": "code",
      "source": [
        "numero2 = int(input(\"ingrese el segundo número: \"))\n"
      ],
      "metadata": {
        "colab": {
          "base_uri": "https://localhost:8080/"
        },
        "id": "q2-sRxQ_lrTZ",
        "outputId": "4eb39fac-86d7-41f5-8f8b-9ce0edb36c34"
      },
      "execution_count": 11,
      "outputs": [
        {
          "name": "stdout",
          "output_type": "stream",
          "text": [
            "ingrese el segundo número: 3\n"
          ]
        }
      ]
    },
    {
      "cell_type": "code",
      "source": [
        "total = numero1 + numero2\n",
        "total\n",
        "print (total)\n"
      ],
      "metadata": {
        "colab": {
          "base_uri": "https://localhost:8080/"
        },
        "id": "-hjwNVrnuQkH",
        "outputId": "309711a7-0452-4e1b-cd92-72c20009ff08"
      },
      "execution_count": 12,
      "outputs": [
        {
          "output_type": "stream",
          "name": "stdout",
          "text": [
            "8\n"
          ]
        }
      ]
    },
    {
      "cell_type": "markdown",
      "source": [
        "## texto con letra más pequeña\n"
      ],
      "metadata": {
        "id": "kjn4Tp4CkwaD"
      }
    },
    {
      "cell_type": "markdown",
      "source": [
        ""
      ],
      "metadata": {
        "id": "nK9ahoShkzc7"
      }
    },
    {
      "cell_type": "markdown",
      "source": [
        "#"
      ],
      "metadata": {
        "id": "kV8Y0VfMkzxz"
      }
    },
    {
      "cell_type": "markdown",
      "source": [
        "para hacer comentarios\n"
      ],
      "metadata": {
        "id": "9I_o7UE9lCZS"
      }
    }
  ]
}