{
  "nbformat": 4,
  "nbformat_minor": 0,
  "metadata": {
    "colab": {
      "name": "prueba01.ipynb",
      "provenance": [],
      "collapsed_sections": [],
      "authorship_tag": "ABX9TyPnGasKHrnAc+vkc/+Re2m3",
      "include_colab_link": true
    },
    "kernelspec": {
      "name": "python3",
      "display_name": "Python 3"
    },
    "language_info": {
      "name": "python"
    }
  },
  "cells": [
    {
      "cell_type": "markdown",
      "metadata": {
        "id": "view-in-github",
        "colab_type": "text"
      },
      "source": [
        "<a href=\"https://colab.research.google.com/github/Cristal-Lenny/python-googlecolab/blob/main/prueba01.ipynb\" target=\"_parent\"><img src=\"https://colab.research.google.com/assets/colab-badge.svg\" alt=\"Open In Colab\"/></a>"
      ]
    },
    {
      "cell_type": "markdown",
      "source": [
        "clase Python 17/06/22"
      ],
      "metadata": {
        "id": "G0FHkpmY0lGu"
      }
    },
    {
      "cell_type": "markdown",
      "source": [
        "Ejercicio lista-tupla Dada la siguiente tupla, crear una lista que sólo incluya los números menores a 5."
      ],
      "metadata": {
        "id": "bu8UOwX_0y7w"
      }
    },
    {
      "cell_type": "code",
      "source": [
        "z = (13, 1, 8, 3, 2, 5, 8)\n",
        "listaZ= list(z)\n",
        "print(listaZ)"
      ],
      "metadata": {
        "colab": {
          "base_uri": "https://localhost:8080/"
        },
        "id": "s4NEaWPh0vRu",
        "outputId": "f4f658d9-8aad-4c97-a4a3-8fe6c0399c5a"
      },
      "execution_count": 23,
      "outputs": [
        {
          "output_type": "stream",
          "name": "stdout",
          "text": [
            "[13, 1, 8, 3, 2, 5, 8]\n"
          ]
        }
      ]
    },
    {
      "cell_type": "code",
      "source": [
        ""
      ],
      "metadata": {
        "id": "qnSpSX055Kg0"
      },
      "execution_count": null,
      "outputs": []
    },
    {
      "cell_type": "code",
      "source": [
        ""
      ],
      "metadata": {
        "id": "Ziq8RAm-1Qv4"
      },
      "execution_count": null,
      "outputs": []
    },
    {
      "cell_type": "markdown",
      "source": [
        "\n",
        "ejercicios\n",
        "---\n",
        "\n"
      ],
      "metadata": {
        "id": "2tSPuMzusolk"
      }
    },
    {
      "cell_type": "markdown",
      "source": [
        "Ej1 sistema de calificaciones"
      ],
      "metadata": {
        "id": "dHt-LjGpwlov"
      }
    },
    {
      "cell_type": "code",
      "source": [
        "x = int(input(\"ingrese su nota: \"))\n",
        "if x == 9 or x == 10:\n",
        "  print(\"A\")\n",
        "elif x == 8 or x >= 9:\n",
        "  print(\"B\")\n",
        "elif x == 7 or x >= 8:\n",
        "  print(\"c\")\n",
        "elif x == 6 or x >= 7:\n",
        "  print(\"D\")\n",
        "elif x <0 or x <= 5:\n",
        "  print(\"F\")\n",
        "else:\n",
        "  print(\"valor incorrecto\")"
      ],
      "metadata": {
        "colab": {
          "base_uri": "https://localhost:8080/"
        },
        "id": "HtCVHrt7ssDH",
        "outputId": "6efa70fc-4f74-409e-b107-5baa94c21e44"
      },
      "execution_count": null,
      "outputs": [
        {
          "output_type": "stream",
          "name": "stdout",
          "text": [
            "ingrese su nota: 2\n",
            "F\n"
          ]
        }
      ]
    },
    {
      "cell_type": "code",
      "source": [
        "x = int(input(\"ingrese su nota: \"))\n",
        "if x >= 9 and x <= 10:\n",
        "  print(\"A\")\n",
        "elif x >= 8 and x <= 9:\n",
        "  print(\"B\")\n",
        "elif x >= 7 and x <= 8:\n",
        "  print(\"c\")\n",
        "elif x >= 6 and x <= 7:\n",
        "  print(\"D\")\n",
        "elif x > 0 and x <= 5:\n",
        "  print(\"F\")\n",
        "else:\n",
        "  print(\"valor incorrecto\")"
      ],
      "metadata": {
        "colab": {
          "base_uri": "https://localhost:8080/"
        },
        "id": "vGQ8AVdFAyWZ",
        "outputId": "1c0fa1de-f546-4018-959f-b06d86919195"
      },
      "execution_count": null,
      "outputs": [
        {
          "output_type": "stream",
          "name": "stdout",
          "text": [
            "ingrese su nota: 11\n",
            "valor incorrecto\n"
          ]
        }
      ]
    },
    {
      "cell_type": "markdown",
      "source": [
        "Ej 2 Imprimir los números enteros del 0 al 5 con un ciclo while"
      ],
      "metadata": {
        "id": "Dr-dl7gowpE3"
      }
    },
    {
      "cell_type": "code",
      "source": [
        "num =0\n",
        "while num <= 5:\n",
        "  print(num)\n",
        "  num = num +1\n",
        "  "
      ],
      "metadata": {
        "colab": {
          "base_uri": "https://localhost:8080/"
        },
        "id": "W07cFHQTwslw",
        "outputId": "1e13400e-dd25-49e5-cdb2-649598a01671"
      },
      "execution_count": null,
      "outputs": [
        {
          "output_type": "stream",
          "name": "stdout",
          "text": [
            "0\n",
            "1\n",
            "2\n",
            "3\n",
            "4\n",
            "5\n"
          ]
        }
      ]
    },
    {
      "cell_type": "code",
      "source": [
        "num =0\n",
        "while num < 5:\n",
        "  num = num +1\n",
        "  print(num)"
      ],
      "metadata": {
        "colab": {
          "base_uri": "https://localhost:8080/"
        },
        "id": "A8Jo5ssJ-ZWh",
        "outputId": "bf6f1675-0c73-4ef5-a3c3-5e66f6c4d1a1"
      },
      "execution_count": null,
      "outputs": [
        {
          "output_type": "stream",
          "name": "stdout",
          "text": [
            "1\n",
            "2\n",
            "3\n",
            "4\n",
            "5\n"
          ]
        }
      ]
    },
    {
      "cell_type": "code",
      "source": [
        "cadena = \"hola\"\n",
        "for w in cadena:\n",
        "  print(w)\n",
        "else:\n",
        "  print (\"finde ciclo for\")"
      ],
      "metadata": {
        "colab": {
          "base_uri": "https://localhost:8080/"
        },
        "id": "AOO3oLUcKl6R",
        "outputId": "bbca4163-519c-4743-8924-a347f59cd21f"
      },
      "execution_count": null,
      "outputs": [
        {
          "output_type": "stream",
          "name": "stdout",
          "text": [
            "h\n",
            "o\n",
            "l\n",
            "a\n",
            "finde ciclo for\n"
          ]
        }
      ]
    },
    {
      "cell_type": "code",
      "source": [
        "for i in \"holanda\":\n",
        " if i == \"a\":\n",
        "   print(f\"letra encontrda: {i}\")\n",
        "   break\n",
        "else:\n",
        "  print (\"finde ciclo\")"
      ],
      "metadata": {
        "colab": {
          "base_uri": "https://localhost:8080/"
        },
        "id": "H4FQ9mODMwmM",
        "outputId": "cae564df-7ffd-464f-dd31-0e2a63218307"
      },
      "execution_count": null,
      "outputs": [
        {
          "output_type": "stream",
          "name": "stdout",
          "text": [
            "letra encontrda: a\n"
          ]
        }
      ]
    },
    {
      "cell_type": "markdown",
      "source": [
        "la f sustituye el valor {i} por el valor real que queremos ver\n",
        "el break indica que se pare hasta donde yo quiero"
      ],
      "metadata": {
        "id": "M0baHujROD4Y"
      }
    },
    {
      "cell_type": "code",
      "source": [
        "for i in range(6):\n",
        "  if i % 2 !=0 :\n",
        "    continue\n",
        "  print(f\"letra encontrada: {i}\")"
      ],
      "metadata": {
        "colab": {
          "base_uri": "https://localhost:8080/"
        },
        "id": "U1-FD1Y6OQxk",
        "outputId": "7d447f8b-22dd-473a-e1a6-56f65b57e7b1"
      },
      "execution_count": null,
      "outputs": [
        {
          "output_type": "stream",
          "name": "stdout",
          "text": [
            "letra encontrada: 0\n",
            "letra encontrada: 2\n",
            "letra encontrada: 4\n"
          ]
        }
      ]
    },
    {
      "cell_type": "code",
      "source": [
        "for i in range(6):\n",
        "  if i % 2 == 0 :\n",
        "    # continue\n",
        "    print(f\"letra encontrada: {i}\")"
      ],
      "metadata": {
        "colab": {
          "base_uri": "https://localhost:8080/"
        },
        "id": "jhRjG4HMSgpM",
        "outputId": "d071a9c1-ce34-4df8-a8b7-69e42c8fd55a"
      },
      "execution_count": null,
      "outputs": [
        {
          "output_type": "stream",
          "name": "stdout",
          "text": [
            "letra encontrada: 0\n",
            "letra encontrada: 2\n",
            "letra encontrada: 4\n"
          ]
        }
      ]
    },
    {
      "cell_type": "markdown",
      "source": [
        "salen los pares porque continue esta oculto con#"
      ],
      "metadata": {
        "id": "x2uD8tddgMxg"
      }
    },
    {
      "cell_type": "code",
      "source": [
        "for i in range(6):\n",
        "  if i % 2 == 0 :\n",
        "    continue\n",
        "  print(f\"letra encontrada: {i}\")"
      ],
      "metadata": {
        "colab": {
          "base_uri": "https://localhost:8080/"
        },
        "id": "qYW-QEpdfWb0",
        "outputId": "0f323d79-96e1-4e0d-825d-3cac8686229b"
      },
      "execution_count": null,
      "outputs": [
        {
          "output_type": "stream",
          "name": "stdout",
          "text": [
            "letra encontrada: 1\n",
            "letra encontrada: 3\n",
            "letra encontrada: 5\n"
          ]
        }
      ]
    },
    {
      "cell_type": "code",
      "source": [
        ""
      ],
      "metadata": {
        "id": "2xDT1PmmZZ1t"
      },
      "execution_count": null,
      "outputs": []
    },
    {
      "cell_type": "markdown",
      "source": [
        "con == valores con resto de la división iguales a 0 (pares),  !=  valores con resto de la divion diferentes a 0 (impares). En este caso el continue frena la aparicion de los pares que serian los que tendrian que salir"
      ],
      "metadata": {
        "id": "9hdG3iJrPGCx"
      }
    },
    {
      "cell_type": "markdown",
      "source": [
        "clase Python 16-06-22"
      ],
      "metadata": {
        "id": "EAUu6sYvquVU"
      }
    },
    {
      "cell_type": "markdown",
      "source": [
        "Listas\n"
      ],
      "metadata": {
        "id": "Qm6Kvdggho2w"
      }
    },
    {
      "cell_type": "code",
      "source": [
        "nombres = [\"juan\", \"ricardo\", \"karla\", \"maria\"]\n",
        "print(nombres)"
      ],
      "metadata": {
        "colab": {
          "base_uri": "https://localhost:8080/"
        },
        "id": "5p9V5TUZh3N1",
        "outputId": "cfa1491b-8b1e-4033-e30a-f36f592af13f"
      },
      "execution_count": null,
      "outputs": [
        {
          "output_type": "stream",
          "name": "stdout",
          "text": [
            "['juan', 'ricardo', 'karla', 'maria']\n"
          ]
        }
      ]
    },
    {
      "cell_type": "code",
      "source": [
        "nombres = [\"juan\", \"ricardo\", \"karla\", \"maria\"]\n",
        "nombres[-1]\n"
      ],
      "metadata": {
        "colab": {
          "base_uri": "https://localhost:8080/",
          "height": 35
        },
        "id": "EVpdRR2_lzFG",
        "outputId": "3e45d8ea-2d38-4de5-da65-cac34b243f17"
      },
      "execution_count": null,
      "outputs": [
        {
          "output_type": "execute_result",
          "data": {
            "text/plain": [
              "'maria'"
            ],
            "application/vnd.google.colaboratory.intrinsic+json": {
              "type": "string"
            }
          },
          "metadata": {},
          "execution_count": 144
        }
      ]
    },
    {
      "cell_type": "markdown",
      "source": [
        "ejercicio3.1 Iterar un rango de 0 a 10 e imprimir números divisibles entre 3"
      ],
      "metadata": {
        "id": "AtwL1990oY8b"
      }
    },
    {
      "cell_type": "code",
      "source": [
        "for i in range(10):\n",
        "  if i % 3 !=0 :\n",
        "    continue\n",
        "  print(f\"letra encontrada: {i}\")"
      ],
      "metadata": {
        "colab": {
          "base_uri": "https://localhost:8080/"
        },
        "id": "CIYRRP18oa3J",
        "outputId": "2e37e39e-faa9-4168-e1c1-8468bc212b6f"
      },
      "execution_count": null,
      "outputs": [
        {
          "output_type": "stream",
          "name": "stdout",
          "text": [
            "letra encontrada: 0\n",
            "letra encontrada: 3\n",
            "letra encontrada: 6\n",
            "letra encontrada: 9\n"
          ]
        }
      ]
    },
    {
      "cell_type": "markdown",
      "source": [
        "ej3.2 Iterar un rango de 0 a 10 e imprimir números divisibles entre 3"
      ],
      "metadata": {
        "id": "XitYjueCZv7W"
      }
    },
    {
      "cell_type": "code",
      "source": [
        "rango = [0, 1, 2, 3, 4, 5, 6 ,7,8,9,10]\n",
        "rango[2:7]"
      ],
      "metadata": {
        "colab": {
          "base_uri": "https://localhost:8080/"
        },
        "id": "WxxqiXPmpR4N",
        "outputId": "94d95cf4-a0e3-4feb-d753-324cf25125af"
      },
      "execution_count": null,
      "outputs": [
        {
          "output_type": "execute_result",
          "data": {
            "text/plain": [
              "[2, 3, 4, 5, 6]"
            ]
          },
          "metadata": {},
          "execution_count": 149
        }
      ]
    },
    {
      "cell_type": "markdown",
      "source": [
        "ej3.3 Crear un rango de 3 a 10, pero con incremento de 2 en 2, en lugar de 1 en 1"
      ],
      "metadata": {
        "id": "STuIMVQpZ7_Q"
      }
    },
    {
      "cell_type": "code",
      "source": [
        "i = 3\n",
        "while i <= 10:\n",
        "  i += 2\n",
        "  if i >= 10:\n",
        "    break\n",
        "  print(i)"
      ],
      "metadata": {
        "colab": {
          "base_uri": "https://localhost:8080/"
        },
        "id": "ZhL6OSzqqU8W",
        "outputId": "940a67a4-09d6-4668-ccfb-497fe31cbc2e"
      },
      "execution_count": null,
      "outputs": [
        {
          "output_type": "stream",
          "name": "stdout",
          "text": [
            "5\n",
            "7\n",
            "9\n"
          ]
        }
      ]
    },
    {
      "cell_type": "code",
      "source": [
        "i = 3\n",
        "while i < 9:\n",
        "  i += 2\n",
        "  print(i)"
      ],
      "metadata": {
        "colab": {
          "base_uri": "https://localhost:8080/"
        },
        "id": "wKyxVqsdvx1V",
        "outputId": "4fd1dfa6-e632-4102-b425-0643da469d09"
      },
      "execution_count": null,
      "outputs": [
        {
          "output_type": "stream",
          "name": "stdout",
          "text": [
            "5\n",
            "7\n",
            "9\n"
          ]
        }
      ]
    },
    {
      "cell_type": "markdown",
      "source": [
        ""
      ],
      "metadata": {
        "id": "ZiEuEbBsqtOv"
      }
    },
    {
      "cell_type": "code",
      "source": [
        "condicion = input(\"ingrese True o false: \")\n",
        "if condicion == True:\n",
        "  print(\"es verdad\")\n",
        "else:\n",
        "  print(\"es falso\")\n"
      ],
      "metadata": {
        "colab": {
          "base_uri": "https://localhost:8080/"
        },
        "id": "mjOTopv6eJZq",
        "outputId": "d401ebbe-a67e-4052-f8e5-7d46c25cfa34"
      },
      "execution_count": null,
      "outputs": [
        {
          "output_type": "stream",
          "name": "stdout",
          "text": [
            "ingrese True o false: True\n",
            "es falso\n"
          ]
        }
      ]
    },
    {
      "cell_type": "code",
      "source": [
        "## recordar que hay que indicar que estamos trabajando con un tipo de dato booleane\n"
      ],
      "metadata": {
        "id": "AQyoDevzc3ho"
      },
      "execution_count": null,
      "outputs": []
    },
    {
      "cell_type": "code",
      "source": [
        "condicion = bool(input(\"ingrese True o false: \"))\n",
        "if condicion == True:\n",
        "  print(\"es verdad\")\n",
        "else:\n",
        "  print(\"es falso\")"
      ],
      "metadata": {
        "colab": {
          "base_uri": "https://localhost:8080/"
        },
        "id": "s0E6H5Dqa-Yd",
        "outputId": "b6ca375e-12fa-4876-b141-74f3d19d042e"
      },
      "execution_count": null,
      "outputs": [
        {
          "output_type": "stream",
          "name": "stdout",
          "text": [
            "ingrese True o false: False\n",
            "es verdad\n"
          ]
        }
      ]
    },
    {
      "cell_type": "code",
      "source": [
        "condicion = bool(input(\"ingrese True o false: \"))\n",
        "if condicion == True:\n",
        "  print(\"es verdad\")\n",
        "else:\n",
        "  print(\"es falso\")\n"
      ],
      "metadata": {
        "colab": {
          "base_uri": "https://localhost:8080/"
        },
        "id": "QXMyqf0Ifb6u",
        "outputId": "d54d9210-1638-4302-a851-6c64919dc5ac"
      },
      "execution_count": null,
      "outputs": [
        {
          "output_type": "stream",
          "name": "stdout",
          "text": [
            "ingrese True o false: \n",
            "es falso\n"
          ]
        }
      ]
    },
    {
      "cell_type": "code",
      "source": [
        "## en este caso siempre será verdad si ingresamos un dato, solo será falso si no introducciomos nada, para que responda solo a la palabra true o false seria \"true\""
      ],
      "metadata": {
        "id": "JgbyW36CgS-7"
      },
      "execution_count": null,
      "outputs": []
    },
    {
      "cell_type": "code",
      "source": [
        "condicion = input(\"ingrese True o false: \")\n",
        "if condicion == \"True\":\n",
        "  print (\"es verdad\")\n",
        "elif condicion == \"false\":\n",
        "  print(\"es falso\")\n",
        "else: \n",
        "  print(\"no encontrado\")"
      ],
      "metadata": {
        "colab": {
          "base_uri": "https://localhost:8080/"
        },
        "id": "-2nIUPf5gxFx",
        "outputId": "cb9f5aeb-2279-48bb-d351-c941a7b3b16a"
      },
      "execution_count": null,
      "outputs": [
        {
          "output_type": "stream",
          "name": "stdout",
          "text": [
            "ingrese True o false: false\n",
            "es falso\n"
          ]
        }
      ]
    },
    {
      "cell_type": "code",
      "source": [
        "x = input(\"ingrese 1 o 2: \")\n",
        "if x == \"1\":\n",
        "  print(\"es verdad\")\n",
        "elif x == \"2\":\n",
        "  print(\"es false\")\n",
        "else:\n",
        "  print(\"no encontrado\")"
      ],
      "metadata": {
        "colab": {
          "base_uri": "https://localhost:8080/"
        },
        "id": "0IaX-TzdhuHM",
        "outputId": "563610eb-2208-4172-9888-31312d4cf6b2"
      },
      "execution_count": null,
      "outputs": [
        {
          "output_type": "stream",
          "name": "stdout",
          "text": [
            "ingrese 1 o 2: d\n",
            "no encontrado\n"
          ]
        }
      ]
    },
    {
      "cell_type": "code",
      "source": [
        "x = int(input(\"Ingrese 1 o 2: \"))\n",
        "if x == 1:\n",
        "  print(\"es verdad\")\n",
        "elif x == 2:\n",
        "  print(\"es false\")\n",
        "else:\n",
        "  print(\"no encontrado\")\n",
        "\n"
      ],
      "metadata": {
        "colab": {
          "base_uri": "https://localhost:8080/"
        },
        "id": "fM1rSnJdjwWo",
        "outputId": "194ec489-c6b4-40a4-d668-279120a2a490"
      },
      "execution_count": null,
      "outputs": [
        {
          "output_type": "stream",
          "name": "stdout",
          "text": [
            "Ingrese 1 o 2: 3\n",
            "no encontrado\n"
          ]
        }
      ]
    },
    {
      "cell_type": "code",
      "source": [
        "## poner dos condiciones en una línea"
      ],
      "metadata": {
        "id": "OGMGj1q-kiPx"
      },
      "execution_count": null,
      "outputs": []
    },
    {
      "cell_type": "code",
      "source": [
        "x = int(input(\"Ingrese 1 o 2: \"))\n",
        "if x == 1 or x == 2:\n",
        "  print(\"es verdad\")\n",
        "else:\n",
        "  print(\"no encontrado\")\n",
        "\n"
      ],
      "metadata": {
        "colab": {
          "base_uri": "https://localhost:8080/"
        },
        "id": "E40rS8NzlJpg",
        "outputId": "794e53ee-d5f0-4320-d74f-baccd3acef99"
      },
      "execution_count": null,
      "outputs": [
        {
          "output_type": "stream",
          "name": "stdout",
          "text": [
            "Ingrese 1 o 2: 2\n",
            "es verdad\n"
          ]
        }
      ]
    },
    {
      "cell_type": "code",
      "source": [
        "x = 2\n",
        "y = 4\n",
        "\n",
        "if x == 2 and y == 4 :\n",
        "  print(\"es verdad\")\n",
        "else:\n",
        "  print(\"no encontrado\")\n"
      ],
      "metadata": {
        "colab": {
          "base_uri": "https://localhost:8080/",
          "height": 235
        },
        "id": "IJ5HDJfznyGO",
        "outputId": "8170ec13-538b-4e8a-a7e2-c874da766abd"
      },
      "execution_count": null,
      "outputs": [
        {
          "output_type": "error",
          "ename": "NameError",
          "evalue": "ignored",
          "traceback": [
            "\u001b[0;31m---------------------------------------------------------------------------\u001b[0m",
            "\u001b[0;31mNameError\u001b[0m                                 Traceback (most recent call last)",
            "\u001b[0;32m<ipython-input-63-eae5c547f8ab>\u001b[0m in \u001b[0;36m<module>\u001b[0;34m()\u001b[0m\n\u001b[0;32m----> 1\u001b[0;31m \u001b[0mx\u001b[0m \u001b[0;34m=\u001b[0m \u001b[0mhola\u001b[0m\u001b[0;34m\u001b[0m\u001b[0;34m\u001b[0m\u001b[0m\n\u001b[0m\u001b[1;32m      2\u001b[0m \u001b[0my\u001b[0m \u001b[0;34m=\u001b[0m \u001b[0mhi\u001b[0m\u001b[0;34m\u001b[0m\u001b[0;34m\u001b[0m\u001b[0m\n\u001b[1;32m      3\u001b[0m \u001b[0;32mif\u001b[0m \u001b[0mx\u001b[0m \u001b[0;34m==\u001b[0m \u001b[0;34m\"hola\"\u001b[0m \u001b[0;32mand\u001b[0m \u001b[0my\u001b[0m \u001b[0;34m==\u001b[0m \u001b[0;34m\"hi\"\u001b[0m\u001b[0;34m:\u001b[0m\u001b[0;34m\u001b[0m\u001b[0;34m\u001b[0m\u001b[0m\n\u001b[1;32m      4\u001b[0m   \u001b[0mprint\u001b[0m\u001b[0;34m(\u001b[0m\u001b[0;34m\"es verdad\"\u001b[0m\u001b[0;34m)\u001b[0m\u001b[0;34m\u001b[0m\u001b[0;34m\u001b[0m\u001b[0m\n\u001b[1;32m      5\u001b[0m \u001b[0;32melse\u001b[0m\u001b[0;34m:\u001b[0m\u001b[0;34m\u001b[0m\u001b[0;34m\u001b[0m\u001b[0m\n",
            "\u001b[0;31mNameError\u001b[0m: name 'hola' is not defined"
          ]
        }
      ]
    },
    {
      "cell_type": "code",
      "source": [
        "num =2\n",
        "while num < 80:\n",
        "  num = num *2\n",
        "  print(num)"
      ],
      "metadata": {
        "colab": {
          "base_uri": "https://localhost:8080/"
        },
        "id": "UCNh2v76nyly",
        "outputId": "e5488772-023c-4f48-9578-88a4fad84292"
      },
      "execution_count": null,
      "outputs": [
        {
          "output_type": "stream",
          "name": "stdout",
          "text": [
            "4\n",
            "8\n",
            "16\n",
            "32\n",
            "64\n",
            "128\n"
          ]
        }
      ]
    },
    {
      "cell_type": "code",
      "source": [
        "numero = int(input)"
      ],
      "metadata": {
        "id": "xpvf9JESrbWi"
      },
      "execution_count": null,
      "outputs": []
    },
    {
      "cell_type": "markdown",
      "source": [
        "clase Python 15-06-22\n"
      ],
      "metadata": {
        "id": "2xeamFfrqlAa"
      }
    },
    {
      "cell_type": "code",
      "execution_count": null,
      "metadata": {
        "colab": {
          "base_uri": "https://localhost:8080/"
        },
        "id": "GJV7vkaUi6dM",
        "outputId": "e920f8f3-3eff-444b-fc65-5c8ffcc1f1da"
      },
      "outputs": [
        {
          "output_type": "stream",
          "name": "stdout",
          "text": [
            "Hola\n"
          ]
        }
      ],
      "source": [
        "print(\"Hola\")"
      ]
    },
    {
      "cell_type": "code",
      "source": [
        ""
      ],
      "metadata": {
        "id": "zU-tKA6Iaeju"
      },
      "execution_count": null,
      "outputs": []
    },
    {
      "cell_type": "code",
      "source": [
        "numero1 = int(input(\"ingrese el primer número: \"))\n"
      ],
      "metadata": {
        "colab": {
          "base_uri": "https://localhost:8080/"
        },
        "id": "YtZl1_jmlYGv",
        "outputId": "1cd99566-c673-42dc-d55d-f6cbbefb8fe3"
      },
      "execution_count": null,
      "outputs": [
        {
          "name": "stdout",
          "output_type": "stream",
          "text": [
            "ingrese el primer número: 5\n"
          ]
        }
      ]
    },
    {
      "cell_type": "code",
      "source": [
        ""
      ],
      "metadata": {
        "id": "HEnSWAwna7eN"
      },
      "execution_count": null,
      "outputs": []
    },
    {
      "cell_type": "code",
      "source": [
        "numero2 = int(input(\"ingrese el segundo número: \"))\n"
      ],
      "metadata": {
        "colab": {
          "base_uri": "https://localhost:8080/"
        },
        "id": "q2-sRxQ_lrTZ",
        "outputId": "4eb39fac-86d7-41f5-8f8b-9ce0edb36c34"
      },
      "execution_count": null,
      "outputs": [
        {
          "name": "stdout",
          "output_type": "stream",
          "text": [
            "ingrese el segundo número: 3\n"
          ]
        }
      ]
    },
    {
      "cell_type": "code",
      "source": [
        "total = numero1 + numero2\n",
        "total\n",
        "print (total)\n"
      ],
      "metadata": {
        "colab": {
          "base_uri": "https://localhost:8080/"
        },
        "id": "-hjwNVrnuQkH",
        "outputId": "309711a7-0452-4e1b-cd92-72c20009ff08"
      },
      "execution_count": null,
      "outputs": [
        {
          "output_type": "stream",
          "name": "stdout",
          "text": [
            "8\n"
          ]
        }
      ]
    },
    {
      "cell_type": "code",
      "source": [
        "miCajita =  2\n",
        "print(miCajita)\n",
        "print(miCajita)\n",
        "print(miCajita)"
      ],
      "metadata": {
        "colab": {
          "base_uri": "https://localhost:8080/"
        },
        "id": "0PIPjMRK2jDL",
        "outputId": "22d44f43-8499-4cd1-93a5-91dcbbdfad71"
      },
      "execution_count": null,
      "outputs": [
        {
          "output_type": "stream",
          "name": "stdout",
          "text": [
            "2\n",
            "2\n",
            "2\n"
          ]
        }
      ]
    },
    {
      "cell_type": "code",
      "source": [
        "miCajita =  6\n",
        "print(miCajita)\n"
      ],
      "metadata": {
        "colab": {
          "base_uri": "https://localhost:8080/"
        },
        "id": "vXdFWkY93kZD",
        "outputId": "888b9bbc-3cec-4ce4-cadd-a5004b42980e"
      },
      "execution_count": null,
      "outputs": [
        {
          "output_type": "stream",
          "name": "stdout",
          "text": [
            "6\n"
          ]
        }
      ]
    },
    {
      "cell_type": "code",
      "source": [
        "x = 2\n",
        "y = 4\n",
        "z = x + y\n",
        "print (x)\n",
        "print (y)\n",
        "print (z)\n"
      ],
      "metadata": {
        "colab": {
          "base_uri": "https://localhost:8080/"
        },
        "id": "6ynEU-Er4FHr",
        "outputId": "3bd8be8c-4b3b-429e-daea-02545b798c81"
      },
      "execution_count": null,
      "outputs": [
        {
          "output_type": "stream",
          "name": "stdout",
          "text": [
            "2\n",
            "4\n",
            "6\n"
          ]
        }
      ]
    },
    {
      "cell_type": "code",
      "source": [
        "x = 5\n",
        "Y = '6'\n",
        "print(x)\n",
        "print(Y)\n",
        "print(type(x))\n",
        "print(type(Y))\n"
      ],
      "metadata": {
        "colab": {
          "base_uri": "https://localhost:8080/"
        },
        "id": "toPVH97D6l86",
        "outputId": "57b149d4-1684-45b6-e5dd-14fd09f28a51"
      },
      "execution_count": null,
      "outputs": [
        {
          "output_type": "stream",
          "name": "stdout",
          "text": [
            "5\n",
            "6\n",
            "<class 'int'>\n",
            "<class 'str'>\n"
          ]
        }
      ]
    },
    {
      "cell_type": "code",
      "source": [
        "3 == '3'"
      ],
      "metadata": {
        "colab": {
          "base_uri": "https://localhost:8080/"
        },
        "id": "c9w32dFw9rhT",
        "outputId": "908b8c5f-da5c-4e6f-830e-889f863ed4d4"
      },
      "execution_count": null,
      "outputs": [
        {
          "output_type": "execute_result",
          "data": {
            "text/plain": [
              "False"
            ]
          },
          "metadata": {},
          "execution_count": 29
        }
      ]
    },
    {
      "cell_type": "code",
      "source": [
        "3 != '3'"
      ],
      "metadata": {
        "id": "2mBJBX-O_Nyy",
        "outputId": "aa7ff139-87e0-44b0-f6db-7aadf89593f4",
        "colab": {
          "base_uri": "https://localhost:8080/"
        }
      },
      "execution_count": null,
      "outputs": [
        {
          "output_type": "execute_result",
          "data": {
            "text/plain": [
              "True"
            ]
          },
          "metadata": {},
          "execution_count": 30
        }
      ]
    },
    {
      "cell_type": "code",
      "source": [
        "'caja' == 'caja'"
      ],
      "metadata": {
        "colab": {
          "base_uri": "https://localhost:8080/"
        },
        "id": "3tKMVhAG-vRd",
        "outputId": "63527750-8475-4abe-8f05-6c89ef32380d"
      },
      "execution_count": null,
      "outputs": [
        {
          "output_type": "execute_result",
          "data": {
            "text/plain": [
              "True"
            ]
          },
          "metadata": {},
          "execution_count": 27
        }
      ]
    },
    {
      "cell_type": "code",
      "source": [
        "3"
      ],
      "metadata": {
        "id": "BgUWGRtL_E1v"
      },
      "execution_count": null,
      "outputs": []
    },
    {
      "cell_type": "markdown",
      "source": [
        "## texto con letra más pequeña\n"
      ],
      "metadata": {
        "id": "kjn4Tp4CkwaD"
      }
    },
    {
      "cell_type": "markdown",
      "source": [
        ""
      ],
      "metadata": {
        "id": "nK9ahoShkzc7"
      }
    },
    {
      "cell_type": "markdown",
      "source": [
        "#"
      ],
      "metadata": {
        "id": "kV8Y0VfMkzxz"
      }
    },
    {
      "cell_type": "markdown",
      "source": [
        "para hacer comentarios\n"
      ],
      "metadata": {
        "id": "9I_o7UE9lCZS"
      }
    }
  ]
}